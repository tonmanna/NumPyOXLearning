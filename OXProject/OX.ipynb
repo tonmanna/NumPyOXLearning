{
 "metadata": {
  "language_info": {
   "codemirror_mode": {
    "name": "ipython",
    "version": 3
   },
   "file_extension": ".py",
   "mimetype": "text/x-python",
   "name": "python",
   "nbconvert_exporter": "python",
   "pygments_lexer": "ipython3",
   "version": "3.8.5-final"
  },
  "orig_nbformat": 2,
  "kernelspec": {
   "name": "python38564bitaiml0309d753958643d1aa391bff87cf2309",
   "display_name": "Python 3.8.5 64-bit ('AIML')"
  }
 },
 "nbformat": 4,
 "nbformat_minor": 2,
 "cells": [
  {
   "cell_type": "code",
   "execution_count": null,
   "metadata": {},
   "outputs": [],
   "source": [
    "import numpy as np\n",
    "import random\n",
    "O = []\n",
    "X = []\n",
    "win = [[1, 2, 3], [4, 5, 6], [7, 8, 9], [1, 4, 7],\n",
    "       [2, 5, 8], [3, 6, 9], [1, 5, 9], [3, 5, 7]]"
   ]
  },
  {
   "cell_type": "code",
   "execution_count": null,
   "metadata": {},
   "outputs": [],
   "source": [
    "def checkWin(P):\n",
    "    for w in win:\n",
    "        if all(x-1 in P for x in w):\n",
    "            return True\n",
    "    return False\n"
   ]
  },
  {
   "cell_type": "code",
   "execution_count": null,
   "metadata": {},
   "outputs": [],
   "source": [
    "def displayOX():\n",
    "    OX = np.array([' '] * 9)\n",
    "    OX[O] = ['O']\n",
    "    OX[X] = ['X']\n",
    "    print(OX.reshape([3, 3]))\n"
   ]
  },
  {
   "cell_type": "code",
   "execution_count": null,
   "metadata": {},
   "outputs": [],
   "source": [
    "def calSOX(O, X):\n",
    "    SO = SX = 0\n",
    "    criticalmove = []\n",
    "    for w in win:\n",
    "        o = [i-1 in O for i in w]\n",
    "        x = [i-1 in X for i in w]\n",
    "        if not any(x):\n",
    "            nO = o.count(True)\n",
    "            SO += nO\n",
    "            if nO == 2:\n",
    "                print('critical', w)\n",
    "                criticalmove = w\n",
    "        if not any(o):\n",
    "            SX += x.count(True)\n",
    "    return SO, SX, criticalmove\n"
   ]
  },
  {
   "cell_type": "code",
   "execution_count": null,
   "metadata": {},
   "outputs": [],
   "source": [
    "def evalOX(O, X):\n",
    "    SO, SX, criticalmove = calSOX(O, X)\n",
    "    return 1 + SX - SO, criticalmove\n"
   ]
  },
  {
   "cell_type": "code",
   "execution_count": null,
   "metadata": {},
   "outputs": [],
   "source": [
    "def AI():\n",
    "    validmove = list(set(range(9)) - set(O+X))\n",
    "    V = [-100] * 9\n",
    "    for m in validmove:\n",
    "        tempX = X + [m]\n",
    "        V[m], criticalmove = evalOX(O, tempX)\n",
    "        if len(criticalmove) > 0:\n",
    "            move = [i-1 for i in criticalmove if i-1 in validmove]\n",
    "            return random.choice(move)\n",
    "    maxV = max(V)\n",
    "    imaxV = [i for i, j in enumerate(V) if j == maxV]\n",
    "    return random.choice(imaxV)\n",
    "\n",
    "\n",
    "while True:\n",
    "    move = int(input('Choose position [1-9]')) - 1\n",
    "    while move in O+X or move > 8 or move < 0:\n",
    "        move = int(input('Bad move : Choose position [1-9]')) - 1\n",
    "    O.append(move)\n",
    "    displayOX()\n",
    "    if checkWin(O):\n",
    "        print('O Win')\n",
    "        break\n",
    "    if len(O) + len(X) == 9:\n",
    "        print('Draw')\n",
    "        break\n",
    "    X.append(AI())\n",
    "    displayOX()\n",
    "    if checkWin(X):\n",
    "        print('X win')\n",
    "        break\n",
    "    if len(O) + len(X) == 9:\n",
    "        print('Draw')\n",
    "        break\n"
   ]
  },
  {
   "cell_type": "code",
   "execution_count": null,
   "metadata": {},
   "outputs": [],
   "source": []
  }
 ]
}